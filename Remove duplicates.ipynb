{
 "cells": [
  {
   "cell_type": "markdown",
   "id": "fda8e715",
   "metadata": {},
   "source": [
    "Kode for å fjerne duplikater på arbeidsuker. Duplikater har oppstått under henting av data.\n",
    "Dette scriptet fjerner ekstra dag med samme vaktkode på angitt ukenummer."
   ]
  },
  {
   "cell_type": "code",
   "execution_count": null,
   "id": "14242126",
   "metadata": {},
   "outputs": [],
   "source": [
    "workweek = 34"
   ]
  },
  {
   "cell_type": "code",
   "execution_count": null,
   "id": "e09b3679",
   "metadata": {},
   "outputs": [],
   "source": [
    "from lib.database.mysql import MySqlConnection\n",
    "\n",
    "agent = MySqlConnection()"
   ]
  },
  {
   "cell_type": "code",
   "execution_count": null,
   "id": "fc6231f1",
   "metadata": {},
   "outputs": [],
   "source": [
    "# queries\n",
    "\n",
    "all_employees_query = \"select id from employee\"\n",
    "workdays_id_query = \"select id from workday where weeknumber = %s\"\n",
    "shifts_query = \"\"\"select s.id, s.shiftcode_id, s.timestamp from shift as s\n",
    "\tjoin employee as e on s.employee_id = e.id\n",
    "    where e.id = %s and s.workday_id = %s\n",
    "\torder by s.timestamp asc;\"\"\"\n",
    "delete_command = \"delete from shift where id = %s\""
   ]
  },
  {
   "cell_type": "code",
   "execution_count": null,
   "id": "fe1ec1d4",
   "metadata": {},
   "outputs": [],
   "source": [
    "employees = agent.query_all(all_employees_query)\n",
    "workdays = agent.query_all(workdays_id_query, (workweek,))\n",
    "\n",
    "employees = [x[0] for x in employees]\n",
    "workdays = [x[0] for x in workdays]\n"
   ]
  },
  {
   "cell_type": "code",
   "execution_count": null,
   "id": "7c06620e",
   "metadata": {},
   "outputs": [],
   "source": [
    "s_id_to_delete = []\n",
    "\n",
    "for emp in employees:\n",
    "    for day in workdays:\n",
    "        wd = agent.query_all(shifts_query, (emp, day))\n",
    "        if not (len(wd) > 1): continue\n",
    "        if wd[0][1] == wd[1][1]: s_id_to_delete.append(wd[1][0])\n",
    "\n",
    "len(s_id_to_delete)"
   ]
  },
  {
   "cell_type": "code",
   "execution_count": null,
   "id": "2d24c46c",
   "metadata": {},
   "outputs": [],
   "source": [
    "s_id_to_delete = [(x,) for x in s_id_to_delete]\n",
    "agent.command_many(delete_command, s_id_to_delete)"
   ]
  },
  {
   "cell_type": "code",
   "execution_count": null,
   "id": "e04b3ceb",
   "metadata": {},
   "outputs": [],
   "source": [
    "# delete week 1 2025\n",
    "\n",
    "to_delete = []\n",
    "q = \"select id from workday where weeknumber = 1 and year = 2025\"\n",
    "week1 = agent.query_all(q)\n",
    "week1 = [x[0] for x in week1]\n",
    "\n",
    "for emp in employees:\n",
    "    for day in week1:\n",
    "        wd = agent.query_all(shifts_query, (emp, day,))\n",
    "        if not wd: continue\n",
    "        to_delete.append(wd[0][0])\n",
    "\n",
    "shifts_delete = [(x,) for x in to_delete]\n",
    "workdays_delete = [(x,) for x in week1]\n",
    "workday_delete_command = \"delete from workday where id = %s\"\n",
    "agent.command_many(delete_command, to_delete )\n",
    "agent.command_many(workday_delete_command, workdays_delete)"
   ]
  }
 ],
 "metadata": {
  "kernelspec": {
   "display_name": ".vevn",
   "language": "python",
   "name": "python3"
  },
  "language_info": {
   "codemirror_mode": {
    "name": "ipython",
    "version": 3
   },
   "file_extension": ".py",
   "mimetype": "text/x-python",
   "name": "python",
   "nbconvert_exporter": "python",
   "pygments_lexer": "ipython3",
   "version": "3.13.2"
  }
 },
 "nbformat": 4,
 "nbformat_minor": 5
}
