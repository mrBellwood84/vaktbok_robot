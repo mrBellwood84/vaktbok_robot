{
 "cells": [
  {
   "cell_type": "code",
   "execution_count": null,
   "id": "eb7c882a",
   "metadata": {},
   "outputs": [],
   "source": [
    "import os\n",
    "import pandas as pd\n",
    "from statistics import median\n",
    "\n",
    "from lib.database.mysql import MySqlConnection\n",
    "from lib.analyse.workplan import Workplan\n",
    "from lib.analyse.workday import Workday\n",
    "from lib.analyse.workweek import WorkWeek\n",
    "\n",
    "\n",
    "\n",
    "agent = MySqlConnection()"
   ]
  },
  {
   "cell_type": "code",
   "execution_count": null,
   "id": "c4ed5bc2",
   "metadata": {},
   "outputs": [],
   "source": [
    "all_employees_query = \"select * from employee order by name asc\"\n",
    "\n",
    "shifts_query = \"\"\"\n",
    "select w.date, w.year, w.weeknumber, w.weekday, sc.code, sc.start, sc.end, s.timestamp from shift as s \n",
    "\tjoin shiftcode as sc on s.shiftcode_id = sc.id\n",
    "    join workday as w on s.workday_id = w.id\n",
    "\twhere s.employee_id = %s and sc.code != \"\" and sc.code != \"F1\" and sc.code != \"F3\"\n",
    "    order by w.date asc, s.timestamp desc \"\"\""
   ]
  },
  {
   "cell_type": "code",
   "execution_count": null,
   "id": "9a9e24e5",
   "metadata": {},
   "outputs": [],
   "source": [
    "workplan_list: list[Workplan] = []\n",
    "\n",
    "employees = agent.query_all(all_employees_query)\n",
    "\n",
    "for e in employees:\n",
    "    workplan = Workplan(e[1])\n",
    "    shifts = agent.query_all(shifts_query, (e[0],))\n",
    "\n",
    "    last_day = None\n",
    "    \n",
    "    for s in shifts:\n",
    "        this_day = s[0]\n",
    "        if last_day != this_day: workplan.add_workday(s)\n",
    "        else: workplan.add_duplicate(s)\n",
    "        last_day = this_day\n",
    "    workplan_list.append(workplan)"
   ]
  },
  {
   "cell_type": "code",
   "execution_count": null,
   "id": "9176b2cf",
   "metadata": {},
   "outputs": [],
   "source": [
    "worktime_data_list = []\n",
    "worktime_adj_list = []\n",
    "above_8_data_list = []\n",
    "below_8_data_list = []\n",
    "\n",
    "for item in workplan_list:\n",
    "\n",
    "    if item.total_workhours == 0: continue\n",
    "\n",
    "    worktime_result = [item.name, item.workday_count, item.total_workhours, (item.total_workhours / item.workday_count)]\n",
    "    worktime_data_list.append(worktime_result)\n",
    "\n",
    "    adjusted_worktime = 0\n",
    "\n",
    "    wd_keys = item.workdays_dict.keys()\n",
    "    for k in wd_keys:\n",
    "        wd:Workday = item.workdays_dict[k]\n",
    "        time = wd.worktime\n",
    "        if time < 6: time = 8\n",
    "        adjusted_worktime += time\n",
    "\n",
    "    worktime_adj_result = [item.name, item.workday_count, adjusted_worktime, (adjusted_worktime / item.workday_count)]\n",
    "    worktime_adj_list.append(worktime_adj_result)\n",
    "\n",
    "    if item.workdays_above_8_count > 0:\n",
    "        keys = item.workdays_above_8_dict.keys()\n",
    "        for k in keys:\n",
    "            wd:Workday = item.workdays_above_8_dict[k]\n",
    "            data = [item.name, wd.date, wd.code, wd.start, wd.end, wd.worktime]\n",
    "            above_8_data_list.append(data)\n",
    "    \n",
    "    if item.workdays_below_8_count > 0:\n",
    "        keys = item.workdays_below_8_dict.keys()\n",
    "        for k in keys:\n",
    "            wd:Workday = item.workdays_below_8_dict[k]\n",
    "            if wd.date == \"2025-12-24\": continue\n",
    "            if wd.date == \"2025-12-31\": continue\n",
    "            data = data = [item.name, wd.date, wd.code, wd.start, wd.end, wd.worktime]\n",
    "            below_8_data_list.append(data)"
   ]
  },
  {
   "cell_type": "code",
   "execution_count": null,
   "id": "56bbe9ac",
   "metadata": {},
   "outputs": [],
   "source": [
    "worktime_data_dict = {\n",
    "    \"navn\": [x[0] for x in worktime_data_list],\n",
    "    \"dager\": [int(x[1]) for x in worktime_data_list],\n",
    "    \"timer\": [int(x[2]) for x in worktime_data_list],\n",
    "    \"snitt per dag\": [float(\"{:.3f}\".format(x[3])) for x in worktime_data_list],\n",
    "}\n",
    "\n",
    "median_day = median(worktime_data_dict[\"dager\"])\n",
    "median_hours = median(worktime_data_dict[\"timer\"])\n",
    "median_hour_per_day = median(worktime_data_dict[\"snitt per dag\"])\n",
    "print(median_day, median_hours, median_hour_per_day)\n",
    "\n",
    "worktime_data_dict[f\"avvik median dag ({median_day})\"] = [int(x[1] - median_day) for x in worktime_data_list]\n",
    "worktime_data_dict[f\"avvik median timer ({median_hours})\"] = [int(x[2] - median_hours) for x in worktime_data_list]\n",
    "worktime_data_dict[f\"avvik median snitt ({median_hour_per_day})\"] = [float(\"{:.3f}\".format(x[3] - median_hour_per_day)) for x in worktime_data_list]\n",
    "\n",
    "worktime_data_df = pd.DataFrame(worktime_data_dict)\n",
    "worktime_data_df"
   ]
  },
  {
   "cell_type": "code",
   "execution_count": null,
   "id": "c76b7301",
   "metadata": {},
   "outputs": [],
   "source": [
    "worktime_adj_dict = {\n",
    "    \"navn\": [x[0] for x in worktime_adj_list],\n",
    "    \"dager\": [int(x[1]) for x in worktime_adj_list],\n",
    "    \"timer\": [int(x[2]) for x in worktime_adj_list],\n",
    "    \"snitt per dag\": [float(\"{:.3f}\".format(x[3])) for x in worktime_adj_list],\n",
    "}\n",
    "\n",
    "median_day = median(worktime_adj_dict[\"dager\"])\n",
    "median_hours = median(worktime_adj_dict[\"timer\"])\n",
    "median_hour_per_day = median(worktime_adj_dict[\"snitt per dag\"])\n",
    "print(median_day, median_hours, median_hour_per_day)\n",
    "\n",
    "worktime_adj_dict[f\"avvik median dag ({median_day})\"] = [int(x[1] - median_day) for x in worktime_adj_list]\n",
    "worktime_adj_dict[f\"avvik median timer ({median_hours})\"] = [int(x[2] - median_hours) for x in worktime_adj_list]\n",
    "worktime_adj_dict[f\"avvik median snitt ({median_hour_per_day})\"] = [float(\"{:.3f}\".format(x[3] - median_hour_per_day)) for x in worktime_adj_list]\n",
    "\n",
    "worktime_adj_data_df = pd.DataFrame(worktime_adj_dict)\n",
    "worktime_adj_data_df"
   ]
  },
  {
   "cell_type": "code",
   "execution_count": null,
   "id": "8dd90feb",
   "metadata": {},
   "outputs": [],
   "source": [
    "above_8_data_dict = {\n",
    "    \"navn\": [x[0] for x in above_8_data_list],\n",
    "    \"dato\": [x[1] for x in above_8_data_list],\n",
    "    \"kode\": [x[2] for x in above_8_data_list],\n",
    "    \"start\": [x[3] for x in above_8_data_list],\n",
    "    \"slutt\": [x[4] for x in above_8_data_list],\n",
    "    \"timer\": [float(\"{:.2f}\".format(x[5])) for x in above_8_data_list],\n",
    "}\n",
    "\n",
    "above_8_df = pd.DataFrame(above_8_data_dict)\n",
    "above_8_df"
   ]
  },
  {
   "cell_type": "code",
   "execution_count": null,
   "id": "ad44d18e",
   "metadata": {},
   "outputs": [],
   "source": [
    "below_8_data_dict = {\n",
    "    \"navn\": [x[0] for x in below_8_data_list],\n",
    "    \"dato\": [x[1] for x in below_8_data_list],\n",
    "    \"kode\": [x[2] for x in below_8_data_list],\n",
    "    \"start\": [x[3] for x in below_8_data_list],\n",
    "    \"slutt\": [x[4] for x in below_8_data_list],\n",
    "    \"timer\": [float(\"{:.2f}\".format(x[5])) for x in below_8_data_list],\n",
    "}\n",
    "\n",
    "below_8_df = pd.DataFrame(below_8_data_dict)\n",
    "below_8_df"
   ]
  },
  {
   "cell_type": "code",
   "execution_count": null,
   "id": "2d7302f6",
   "metadata": {},
   "outputs": [],
   "source": [
    "query_shiftcodes = \"select * from shiftcode order by start asc, end asc\"\n",
    "shiftcodes_list = agent.query_all(query_shiftcodes)\n",
    "shiftcodes_dict = {\n",
    "    \"code\": [x[1] for x in shiftcodes_list],\n",
    "    \"start\": [x[2] for x in shiftcodes_list],\n",
    "    \"end\" : [x[3] for x in shiftcodes_list],\n",
    "}\n",
    "\n",
    "shiftcode_df = pd.DataFrame(shiftcodes_dict)\n",
    "shiftcode_df"
   ]
  },
  {
   "cell_type": "code",
   "execution_count": null,
   "id": "ad52d7d6",
   "metadata": {},
   "outputs": [],
   "source": [
    "path = os.path.join(os.getcwd(), \"data\", \"vaktbok.xlsx\")\n",
    "with pd.ExcelWriter(path) as writer:\n",
    "    worktime_data_df.to_excel(writer, \"arbeidstid statistikk\")\n",
    "    worktime_adj_data_df.to_excel(writer, \"arbeidstid, justert\")\n",
    "    above_8_df.to_excel(writer, \"over 8 timer\")\n",
    "    below_8_df.to_excel(writer, \"under 8 timer\")\n",
    "    shiftcode_df.to_excel(writer, \"skiftkoder\")\n"
   ]
  },
  {
   "cell_type": "code",
   "execution_count": null,
   "id": "71f25783",
   "metadata": {},
   "outputs": [],
   "source": []
  }
 ],
 "metadata": {
  "kernelspec": {
   "display_name": ".vevn",
   "language": "python",
   "name": "python3"
  },
  "language_info": {
   "codemirror_mode": {
    "name": "ipython",
    "version": 3
   },
   "file_extension": ".py",
   "mimetype": "text/x-python",
   "name": "python",
   "nbconvert_exporter": "python",
   "pygments_lexer": "ipython3",
   "version": "3.13.2"
  }
 },
 "nbformat": 4,
 "nbformat_minor": 5
}
